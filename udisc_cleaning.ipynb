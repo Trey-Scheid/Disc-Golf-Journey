{
 "cells": [
  {
   "cell_type": "code",
   "execution_count": 1,
   "id": "122c21f8",
   "metadata": {},
   "outputs": [],
   "source": [
    "import pandas as pd"
   ]
  },
  {
   "cell_type": "code",
   "execution_count": 2,
   "id": "db6f0907",
   "metadata": {},
   "outputs": [],
   "source": [
    "import itertools\n",
    "import numpy as np"
   ]
  },
  {
   "cell_type": "markdown",
   "id": "9adce969",
   "metadata": {},
   "source": [
    "Ignore, was for another dataset I was experimenting with"
   ]
  },
  {
   "cell_type": "code",
   "execution_count": 3,
   "id": "303685b2",
   "metadata": {},
   "outputs": [],
   "source": [
    "# sleep_data_p1 = pd.read_json(\"GarminExport_4-27-23/DI_CONNECT/DI-Connect-Wellness/2022-10-09_2023-01-17_110095977_sleepData.json\")"
   ]
  },
  {
   "cell_type": "code",
   "execution_count": 4,
   "id": "ae235b5f",
   "metadata": {},
   "outputs": [],
   "source": [
    "# sleep_data_p1.head()"
   ]
  },
  {
   "cell_type": "code",
   "execution_count": 5,
   "id": "446bd05e",
   "metadata": {},
   "outputs": [],
   "source": [
    "# sleep_data_p2 = pd.read_json(\"GarminExport_4-27-23/DI_CONNECT/DI-Connect-Wellness/2023-01-17_2023-04-27_110095977_sleepData.json\")"
   ]
  },
  {
   "cell_type": "code",
   "execution_count": 6,
   "id": "69a62e18",
   "metadata": {},
   "outputs": [],
   "source": [
    "# sleep_data = pd.concat([sleep_data_p1, sleep_data_p2])\n",
    "# sleep_data"
   ]
  },
  {
   "cell_type": "code",
   "execution_count": 7,
   "id": "07e205a3",
   "metadata": {},
   "outputs": [],
   "source": [
    "# activity_summary = pd.read_json(\"GarminExport_4-27-23/DI_CONNECT/DI-Connect-Fitness/trey11sport@gmail.com_0_summarizedActivities.json\")\n",
    "# activity_summary.head()"
   ]
  },
  {
   "cell_type": "code",
   "execution_count": 8,
   "id": "7090f674",
   "metadata": {},
   "outputs": [
    {
     "data": {
      "text/html": [
       "<div>\n",
       "<style scoped>\n",
       "    .dataframe tbody tr th:only-of-type {\n",
       "        vertical-align: middle;\n",
       "    }\n",
       "\n",
       "    .dataframe tbody tr th {\n",
       "        vertical-align: top;\n",
       "    }\n",
       "\n",
       "    .dataframe thead th {\n",
       "        text-align: right;\n",
       "    }\n",
       "</style>\n",
       "<table border=\"1\" class=\"dataframe\">\n",
       "  <thead>\n",
       "    <tr style=\"text-align: right;\">\n",
       "      <th></th>\n",
       "      <th>PlayerName</th>\n",
       "      <th>CourseName</th>\n",
       "      <th>Date</th>\n",
       "      <th>Total</th>\n",
       "      <th>+/-</th>\n",
       "      <th>Hole1</th>\n",
       "      <th>Hole2</th>\n",
       "      <th>Hole3</th>\n",
       "      <th>Hole4</th>\n",
       "      <th>Hole5</th>\n",
       "      <th>...</th>\n",
       "      <th>Hole20</th>\n",
       "      <th>Hole21</th>\n",
       "      <th>Hole22</th>\n",
       "      <th>Hole23</th>\n",
       "      <th>Hole24</th>\n",
       "      <th>Hole25</th>\n",
       "      <th>Hole26</th>\n",
       "      <th>Hole27</th>\n",
       "      <th>Hole28</th>\n",
       "      <th>Hole29</th>\n",
       "    </tr>\n",
       "  </thead>\n",
       "  <tbody>\n",
       "    <tr>\n",
       "      <th>0</th>\n",
       "      <td>Par</td>\n",
       "      <td>Hillcrest Park</td>\n",
       "      <td>2023-05-30 1129</td>\n",
       "      <td>54</td>\n",
       "      <td>NaN</td>\n",
       "      <td>3</td>\n",
       "      <td>3</td>\n",
       "      <td>3</td>\n",
       "      <td>3</td>\n",
       "      <td>3</td>\n",
       "      <td>...</td>\n",
       "      <td>NaN</td>\n",
       "      <td>NaN</td>\n",
       "      <td>NaN</td>\n",
       "      <td>NaN</td>\n",
       "      <td>NaN</td>\n",
       "      <td>NaN</td>\n",
       "      <td>NaN</td>\n",
       "      <td>NaN</td>\n",
       "      <td>NaN</td>\n",
       "      <td>NaN</td>\n",
       "    </tr>\n",
       "    <tr>\n",
       "      <th>1</th>\n",
       "      <td>Trey Scheid</td>\n",
       "      <td>Hillcrest Park</td>\n",
       "      <td>2023-05-30 1129</td>\n",
       "      <td>60</td>\n",
       "      <td>6.0</td>\n",
       "      <td>3</td>\n",
       "      <td>3</td>\n",
       "      <td>4</td>\n",
       "      <td>3</td>\n",
       "      <td>3</td>\n",
       "      <td>...</td>\n",
       "      <td>NaN</td>\n",
       "      <td>NaN</td>\n",
       "      <td>NaN</td>\n",
       "      <td>NaN</td>\n",
       "      <td>NaN</td>\n",
       "      <td>NaN</td>\n",
       "      <td>NaN</td>\n",
       "      <td>NaN</td>\n",
       "      <td>NaN</td>\n",
       "      <td>NaN</td>\n",
       "    </tr>\n",
       "    <tr>\n",
       "      <th>2</th>\n",
       "      <td>Shane Johnson</td>\n",
       "      <td>Hillcrest Park</td>\n",
       "      <td>2023-05-30 1129</td>\n",
       "      <td>59</td>\n",
       "      <td>5.0</td>\n",
       "      <td>2</td>\n",
       "      <td>3</td>\n",
       "      <td>6</td>\n",
       "      <td>3</td>\n",
       "      <td>4</td>\n",
       "      <td>...</td>\n",
       "      <td>NaN</td>\n",
       "      <td>NaN</td>\n",
       "      <td>NaN</td>\n",
       "      <td>NaN</td>\n",
       "      <td>NaN</td>\n",
       "      <td>NaN</td>\n",
       "      <td>NaN</td>\n",
       "      <td>NaN</td>\n",
       "      <td>NaN</td>\n",
       "      <td>NaN</td>\n",
       "    </tr>\n",
       "    <tr>\n",
       "      <th>3</th>\n",
       "      <td>Ryan</td>\n",
       "      <td>Hillcrest Park</td>\n",
       "      <td>2023-05-30 1129</td>\n",
       "      <td>81</td>\n",
       "      <td>27.0</td>\n",
       "      <td>5</td>\n",
       "      <td>4</td>\n",
       "      <td>6</td>\n",
       "      <td>6</td>\n",
       "      <td>6</td>\n",
       "      <td>...</td>\n",
       "      <td>NaN</td>\n",
       "      <td>NaN</td>\n",
       "      <td>NaN</td>\n",
       "      <td>NaN</td>\n",
       "      <td>NaN</td>\n",
       "      <td>NaN</td>\n",
       "      <td>NaN</td>\n",
       "      <td>NaN</td>\n",
       "      <td>NaN</td>\n",
       "      <td>NaN</td>\n",
       "    </tr>\n",
       "    <tr>\n",
       "      <th>4</th>\n",
       "      <td>Par</td>\n",
       "      <td>Morley Field</td>\n",
       "      <td>2023-05-24 1151</td>\n",
       "      <td>57</td>\n",
       "      <td>NaN</td>\n",
       "      <td>3</td>\n",
       "      <td>3</td>\n",
       "      <td>3</td>\n",
       "      <td>3</td>\n",
       "      <td>3</td>\n",
       "      <td>...</td>\n",
       "      <td>NaN</td>\n",
       "      <td>NaN</td>\n",
       "      <td>NaN</td>\n",
       "      <td>NaN</td>\n",
       "      <td>NaN</td>\n",
       "      <td>NaN</td>\n",
       "      <td>NaN</td>\n",
       "      <td>NaN</td>\n",
       "      <td>NaN</td>\n",
       "      <td>NaN</td>\n",
       "    </tr>\n",
       "  </tbody>\n",
       "</table>\n",
       "<p>5 rows × 34 columns</p>\n",
       "</div>"
      ],
      "text/plain": [
       "      PlayerName      CourseName             Date  Total   +/-  Hole1  Hole2  \\\n",
       "0            Par  Hillcrest Park  2023-05-30 1129     54   NaN      3      3   \n",
       "1    Trey Scheid  Hillcrest Park  2023-05-30 1129     60   6.0      3      3   \n",
       "2  Shane Johnson  Hillcrest Park  2023-05-30 1129     59   5.0      2      3   \n",
       "3          Ryan   Hillcrest Park  2023-05-30 1129     81  27.0      5      4   \n",
       "4            Par    Morley Field  2023-05-24 1151     57   NaN      3      3   \n",
       "\n",
       "   Hole3  Hole4  Hole5  ...  Hole20  Hole21  Hole22  Hole23  Hole24  Hole25  \\\n",
       "0      3      3      3  ...     NaN     NaN     NaN     NaN     NaN     NaN   \n",
       "1      4      3      3  ...     NaN     NaN     NaN     NaN     NaN     NaN   \n",
       "2      6      3      4  ...     NaN     NaN     NaN     NaN     NaN     NaN   \n",
       "3      6      6      6  ...     NaN     NaN     NaN     NaN     NaN     NaN   \n",
       "4      3      3      3  ...     NaN     NaN     NaN     NaN     NaN     NaN   \n",
       "\n",
       "   Hole26  Hole27  Hole28  Hole29  \n",
       "0     NaN     NaN     NaN     NaN  \n",
       "1     NaN     NaN     NaN     NaN  \n",
       "2     NaN     NaN     NaN     NaN  \n",
       "3     NaN     NaN     NaN     NaN  \n",
       "4     NaN     NaN     NaN     NaN  \n",
       "\n",
       "[5 rows x 34 columns]"
      ]
     },
     "execution_count": 8,
     "metadata": {},
     "output_type": "execute_result"
    }
   ],
   "source": [
    "# Load Main dataset\n",
    "udisc = pd.read_csv(\"code/data/UDiscScorecards.csv\")\n",
    "udisc.head()"
   ]
  },
  {
   "cell_type": "code",
   "execution_count": 9,
   "id": "e416a217",
   "metadata": {},
   "outputs": [
    {
     "data": {
      "text/plain": [
       "901"
      ]
     },
     "execution_count": 9,
     "metadata": {},
     "output_type": "execute_result"
    }
   ],
   "source": [
    "udisc.shape[0]"
   ]
  },
  {
   "cell_type": "code",
   "execution_count": 10,
   "id": "d84f39a2",
   "metadata": {},
   "outputs": [],
   "source": [
    "#remove cols / rows unneeded\n",
    "# udisc = udisc.drop(columns=[\"LayoutName\"])\n",
    "udisc = udisc[udisc[\"CourseName\"] != \"Dunno Where/When\"]"
   ]
  },
  {
   "cell_type": "markdown",
   "id": "2dbd25d8",
   "metadata": {},
   "source": [
    "## EDA"
   ]
  },
  {
   "cell_type": "code",
   "execution_count": 11,
   "id": "017a62fb",
   "metadata": {
    "scrolled": true
   },
   "outputs": [],
   "source": [
    "# udisc[udisc[\"PlayerName\"] == \"Trey Scheid\"].groupby(\"CourseName\").count().sort_values(by=\"Date\", ascending=False)"
   ]
  },
  {
   "cell_type": "code",
   "execution_count": 12,
   "id": "5712cb9d",
   "metadata": {},
   "outputs": [],
   "source": [
    "# udisc[(udisc[\"PlayerName\"] != \"Trey Scheid\") & (udisc[\"PlayerName\"] != \"Par\")]"
   ]
  },
  {
   "cell_type": "code",
   "execution_count": 13,
   "id": "bc1426a7",
   "metadata": {},
   "outputs": [
    {
     "data": {
      "text/plain": [
       "CourseName\n",
       "Hanns Park                       0.750000\n",
       "Creekside Park                   2.000000\n",
       "Walden Park                      3.039301\n",
       "Mast Park                        3.400000\n",
       "Kit Carson Park                  3.500000\n",
       "La Mirada Regional Park Back     4.600000\n",
       "Hillcrest Park                   4.712000\n",
       "Rosa Park                        5.000000\n",
       "New Hogan Dam East               5.166667\n",
       "New Hogan Dam West               6.000000\n",
       "Hume Lake Christian Camp         6.142857\n",
       "Benicia Community Park           6.840000\n",
       "Kelley Park Disc Golf            7.000000\n",
       "Lake Chabot Golf Course          8.366667\n",
       "Chavez Ridge at Elysian          8.500000\n",
       "Taylor Mountain                  8.666667\n",
       "Lagoon Valley                    8.666667\n",
       "Golden Gate Park                 8.719512\n",
       "Monarch Bay                      9.500000\n",
       "Moraga Commons Park              9.870968\n",
       "Aquatic Park                    10.222222\n",
       "Morley Field                    11.448276\n",
       "DeLaveaga Disc Golf Course      18.857143\n",
       "Oyster Bay Disc Golf Course     25.000000\n",
       "Name: +/-, dtype: float64"
      ]
     },
     "execution_count": 13,
     "metadata": {},
     "output_type": "execute_result"
    }
   ],
   "source": [
    "udisc.groupby(\"CourseName\")[\"+/-\"].mean().sort_values()"
   ]
  },
  {
   "cell_type": "code",
   "execution_count": 14,
   "id": "d78b9541",
   "metadata": {
    "scrolled": true
   },
   "outputs": [],
   "source": [
    "# udisc.groupby([\"PlayerName\"])[\"Total\"].count().sort_values(ascending=False).index#.unique()"
   ]
  },
  {
   "cell_type": "code",
   "execution_count": 15,
   "id": "68568f8d",
   "metadata": {},
   "outputs": [],
   "source": [
    "# merge same entities\n",
    "unify_names = {\"James Park\":\"James \", \"Shane\":\"Shane Johnson\", \"Todd\":\"Todd Scheid\", \"Jeffrey Farmer\":\"Jeffrey\"}\n",
    "udisc = udisc.replace(unify_names)"
   ]
  },
  {
   "cell_type": "markdown",
   "id": "8483c7a0",
   "metadata": {},
   "source": [
    "### Export Cleaned udisc scorecards"
   ]
  },
  {
   "cell_type": "code",
   "execution_count": 16,
   "id": "47e48332",
   "metadata": {},
   "outputs": [],
   "source": [
    "udisc.to_csv(\"code/data/UDiscScorecards.csv\", index=False)"
   ]
  },
  {
   "cell_type": "code",
   "execution_count": null,
   "id": "8407abc6",
   "metadata": {},
   "outputs": [],
   "source": []
  },
  {
   "cell_type": "markdown",
   "id": "fd4edcd6",
   "metadata": {},
   "source": [
    "# Node Link Creation"
   ]
  },
  {
   "cell_type": "code",
   "execution_count": 17,
   "id": "366710f3",
   "metadata": {},
   "outputs": [
    {
     "name": "stdout",
     "output_type": "stream",
     "text": [
      "682\n"
     ]
    },
    {
     "data": {
      "text/plain": [
       "1694"
      ]
     },
     "execution_count": 17,
     "metadata": {},
     "output_type": "execute_result"
    }
   ],
   "source": [
    "# duplicate rows so that rounds of 18 have two rows and of 27 have three \n",
    "\n",
    "oneround = udisc[udisc[\"PlayerName\"] != \"Par\"].copy()\n",
    "tworound = oneround[pd.isnull(udisc[udisc[\"PlayerName\"] != \"Par\"][\"Hole10\"])].copy()\n",
    "threeround = oneround[pd.isnull(udisc[udisc[\"PlayerName\"] != \"Par\"][\"Hole20\"])].copy()\n",
    "udisc_rounds = pd.concat([oneround, tworound, threeround])\n",
    "print(oneround.shape[0])\n",
    "udisc_rounds.shape[0]"
   ]
  },
  {
   "cell_type": "code",
   "execution_count": 18,
   "id": "16be7ec8",
   "metadata": {},
   "outputs": [],
   "source": [
    "# now each row is metadata for a round of exactly 9 for one person"
   ]
  },
  {
   "cell_type": "code",
   "execution_count": 19,
   "id": "b7b21160",
   "metadata": {},
   "outputs": [
    {
     "data": {
      "text/plain": [
       "Date             CourseName            \n",
       "2016-11-11 0000  Moraga Commons Park                 [Trey Scheid, Trey Scheid, Trey Scheid]\n",
       "2016-11-11 1741  Walden Park               [Shane Johnson, Skyler, Reid, Shane Johnson, S...\n",
       "2016-11-13 1744  Benicia Community Park    [Trey Scheid, Todd Scheid, Shane Johnson, Trey...\n",
       "2017-03-12 1408  Walden Park               [Trey Scheid, Todd Scheid, Trey Scheid, Todd S...\n",
       "2017-03-26 1413  Walden Park               [Trey Scheid, Todd Scheid, Trey Scheid, Todd S...\n",
       "                                                                 ...                        \n",
       "2023-05-19 1345  Kit Carson Park           [Bradley, Bing bing, Trey Scheid, Bradley, Bin...\n",
       "2023-05-22 1523  Kit Carson Park           [Trey Scheid, Shane Johnson, Trey Scheid, Shan...\n",
       "2023-05-24 0922  Morley Field              [Trey Scheid, Shane Johnson, Eduardo, Trey Sch...\n",
       "2023-05-24 1151  Morley Field              [Trey Scheid, Shane Johnson, Eduardo, Trey Sch...\n",
       "2023-05-30 1129  Hillcrest Park            [Trey Scheid, Shane Johnson, Ryan , Trey Schei...\n",
       "Name: PlayerName, Length: 219, dtype: object"
      ]
     },
     "execution_count": 19,
     "metadata": {},
     "output_type": "execute_result"
    }
   ],
   "source": [
    "round_people = udisc_rounds.groupby([\"Date\", \"CourseName\"])[\"PlayerName\"].aggregate(list)\n",
    "round_people"
   ]
  },
  {
   "cell_type": "code",
   "execution_count": 20,
   "id": "558dddbc",
   "metadata": {},
   "outputs": [],
   "source": [
    "# create source target pairs from each scorecard (row)\n",
    "link_list = []\n",
    "for i in (round_people.apply(lambda l: list(itertools.combinations(l, 2))).to_list()):\n",
    "    link_list += i"
   ]
  },
  {
   "cell_type": "code",
   "execution_count": 21,
   "id": "5b6b6d4b",
   "metadata": {},
   "outputs": [],
   "source": [
    "# reformat as df\n",
    "finishing_links = pd.DataFrame(link_list, columns=[\"source\", \"target\"])\n",
    "finishing_links[\"value\"] = 0\n",
    "finishing_links = finishing_links.groupby([\"source\", \"target\"]).count().reset_index()"
   ]
  },
  {
   "cell_type": "code",
   "execution_count": 22,
   "id": "3d2fa93c",
   "metadata": {
    "scrolled": true
   },
   "outputs": [
    {
     "data": {
      "text/plain": [
       "'[{\"source\":\"Bing bing\",\"target\":\"Bing bing\",\"value\":1},{\"source\":\"Bing bing\",\"target\":\"Bradley\",\"value\":1},{\"source\":\"Bing bing\",\"target\":\"Trey Scheid\",\"value\":3},{\"source\":\"Bradley\",\"target\":\"Bing bing\",\"value\":3},{\"source\":\"Bradley\",\"target\":\"Bradley\",\"value\":6},{\"source\":\"Bradley\",\"target\":\"Gummo\",\"value\":9},{\"source\":\"Bradley\",\"target\":\"Keane Kirchner \",\"value\":6},{\"source\":\"Bradley\",\"target\":\"Trey Scheid\",\"value\":8},{\"source\":\"Bradley\",\"target\":\"Yurt\",\"value\":12},{\"source\":\"Chloe\",\"target\":\"Chloe\",\"value\":9},{\"source\":\"Chloe\",\"target\":\"Eshaan\",\"value\":6},{\"source\":\"Chloe\",\"target\":\"James \",\"value\":6},{\"source\":\"Chloe\",\"target\":\"Jeffrey\",\"value\":1},{\"source\":\"Chloe\",\"target\":\"Joey\",\"value\":6},{\"source\":\"Chloe\",\"target\":\"Rania\",\"value\":3},{\"source\":\"Chloe\",\"target\":\"Shane Johnson\",\"value\":5},{\"source\":\"Chloe\",\"target\":\"Trey Scheid\",\"value\":9},{\"source\":\"Choppa\",\"target\":\"Choppa\",\"value\":1},{\"source\":\"Choppa\",\"target\":\"Namo\",\"value\":1},{\"source\":\"Choppa\",\"target\":\"Trey Scheid\",\"value\":1},{\"source\":\"Choppa\",\"target\":\"Zac\",\"value\":1},{\"source\":\"Danny\",\"target\":\"Danny\",\"value\":26},{\"source\":\"Danny\",\"target\":\"George\",\"value\":3},{\"source\":\"Danny\",\"target\":\"Isaiah\",\"value\":6},{\"source\":\"Danny\",\"target\":\"James \",\"value\":7},{\"source\":\"Danny\",\"target\":\"Jeffrey\",\"value\":9},{\"source\":\"Danny\",\"target\":\"Matt Wolff\",\"value\":3},{\"source\":\"Danny\",\"target\":\"Ryan \",\"value\":6},{\"source\":\"Danny\",\"target\":\"Sammy\",\"value\":27},{\"source\":\"Danny\",\"target\":\"Shane Johnson\",\"value\":7},{\"source\":\"Danny\",\"target\":\"Todd Scheid\",\"value\":3},{\"source\":\"Danny\",\"target\":\"Trey Scheid\",\"value\":47},{\"source\":\"Dave\",\"target\":\"Dave\",\"value\":1},{\"source\":\"Dave\",\"target\":\"Ryan \",\"value\":1},{\"source\":\"Dave\",\"target\":\"Todd Scheid\",\"value\":1},{\"source\":\"Dave\",\"target\":\"Trey Scheid\",\"value\":1},{\"source\":\"Eduardo\",\"target\":\"Eduardo\",\"value\":2},{\"source\":\"Eduardo\",\"target\":\"Shane Johnson\",\"value\":2},{\"source\":\"Eduardo\",\"target\":\"Trey Scheid\",\"value\":2},{\"source\":\"Elum\",\"target\":\"Elum\",\"value\":1},{\"source\":\"Elum\",\"target\":\"Jake Gutkowski\",\"value\":1},{\"source\":\"Elum\",\"target\":\"Sequoya Daniels\",\"value\":3},{\"source\":\"Elum\",\"target\":\"Trey Scheid\",\"value\":3},{\"source\":\"Elum\",\"target\":\"Zac\",\"value\":1},{\"source\":\"Eshaan\",\"target\":\"Chloe\",\"value\":3},{\"source\":\"Eshaan\",\"target\":\"Eshaan\",\"value\":3},{\"source\":\"Eshaan\",\"target\":\"Joey\",\"value\":3},{\"source\":\"Eshaan\",\"target\":\"Rania\",\"value\":3},{\"source\":\"Eshaan\",\"target\":\"Trey Scheid\",\"value\":3},{\"source\":\"George\",\"target\":\"Danny\",\"value\":6},{\"source\":\"George\",\"target\":\"George\",\"value\":3},{\"source\":\"George\",\"target\":\"Matt Wolff\",\"value\":3},{\"source\":\"George\",\"target\":\"Ryan \",\"value\":6},{\"source\":\"George\",\"target\":\"Sammy\",\"value\":3},{\"source\":\"George\",\"target\":\"Trey Scheid\",\"value\":6},{\"source\":\"Gummo\",\"target\":\"Bradley\",\"value\":4},{\"source\":\"Gummo\",\"target\":\"Gummo\",\"value\":4},{\"source\":\"Gummo\",\"target\":\"Keane Kirchner \",\"value\":6},{\"source\":\"Gummo\",\"target\":\"Trey Scheid\",\"value\":4},{\"source\":\"Gummo\",\"target\":\"Yurt\",\"value\":4},{\"source\":\"Ian McDavid\",\"target\":\"Ian McDavid\",\"value\":1},{\"source\":\"Ian McDavid\",\"target\":\"James \",\"value\":3},{\"source\":\"Ian McDavid\",\"target\":\"Roger Cansler\",\"value\":3},{\"source\":\"Ian McDavid\",\"target\":\"Trey Scheid\",\"value\":3},{\"source\":\"Isaiah\",\"target\":\"Danny\",\"value\":3},{\"source\":\"Isaiah\",\"target\":\"Isaiah\",\"value\":9},{\"source\":\"Isaiah\",\"target\":\"James \",\"value\":6},{\"source\":\"Isaiah\",\"target\":\"Matt Wolff\",\"value\":6},{\"source\":\"Isaiah\",\"target\":\"Sammy\",\"value\":9},{\"source\":\"Isaiah\",\"target\":\"Shane Johnson\",\"value\":3},{\"source\":\"Isaiah\",\"target\":\"Trey Scheid\",\"value\":9},{\"source\":\"Jake Gutkowski\",\"target\":\"Elum\",\"value\":3},{\"source\":\"Jake Gutkowski\",\"target\":\"Jake Gutkowski\",\"value\":1},{\"source\":\"Jake Gutkowski\",\"target\":\"Sequoya Daniels\",\"value\":3},{\"source\":\"Jake Gutkowski\",\"target\":\"Trey Scheid\",\"value\":3},{\"source\":\"Jake Gutkowski\",\"target\":\"Zac\",\"value\":3},{\"source\":\"James \",\"target\":\"Chloe\",\"value\":15},{\"source\":\"James \",\"target\":\"Danny\",\"value\":6},{\"source\":\"James \",\"target\":\"Ian McDavid\",\"value\":1},{\"source\":\"James \",\"target\":\"Isaiah\",\"value\":12},{\"source\":\"James \",\"target\":\"James \",\"value\":190},{\"source\":\"James \",\"target\":\"Jeffrey\",\"value\":211},{\"source\":\"James \",\"target\":\"Keith Farmer\",\"value\":13},{\"source\":\"James \",\"target\":\"Mark Scheid\",\"value\":3},{\"source\":\"James \",\"target\":\"Matt Wolff\",\"value\":6},{\"source\":\"James \",\"target\":\"Nate\",\"value\":3},{\"source\":\"James \",\"target\":\"Rob Park\",\"value\":25},{\"source\":\"James \",\"target\":\"Roger Cansler\",\"value\":3},{\"source\":\"James \",\"target\":\"Ryan \",\"value\":7},{\"source\":\"James \",\"target\":\"Sammy\",\"value\":33},{\"source\":\"James \",\"target\":\"Shane Johnson\",\"value\":193},{\"source\":\"James \",\"target\":\"Skyler\",\"value\":3},{\"source\":\"James \",\"target\":\"Todd Scheid\",\"value\":67},{\"source\":\"James \",\"target\":\"Trey Scheid\",\"value\":251},{\"source\":\"James \",\"target\":\"Zoe\",\"value\":15},{\"source\":\"James  + Rob Park\",\"target\":\"James  + Rob Park\",\"value\":3},{\"source\":\"James  + Rob Park\",\"target\":\"Keith Farmer + Jeffrey\",\"value\":6},{\"source\":\"James  + Rob Park\",\"target\":\"Trey Scheid + Todd Scheid\",\"value\":6},{\"source\":\"Jeffrey\",\"target\":\"Chloe\",\"value\":3},{\"source\":\"Jeffrey\",\"target\":\"Danny\",\"value\":4},{\"source\":\"Jeffrey\",\"target\":\"James \",\"value\":110},{\"source\":\"Jeffrey\",\"target\":\"Jeffrey\",\"value\":145},{\"source\":\"Jeffrey\",\"target\":\"Joe\",\"value\":1},{\"source\":\"Jeffrey\",\"target\":\"Keith Farmer\",\"value\":13},{\"source\":\"Jeffrey\",\"target\":\"Rob Park\",\"value\":16},{\"source\":\"Jeffrey\",\"target\":\"Ryan \",\"value\":12},{\"source\":\"Jeffrey\",\"target\":\"Ryan P\",\"value\":6},{\"source\":\"Jeffrey\",\"target\":\"Sammy\",\"value\":6},{\"source\":\"Jeffrey\",\"target\":\"Shane Johnson\",\"value\":101},{\"source\":\"Jeffrey\",\"target\":\"Todd Scheid\",\"value\":33},{\"source\":\"Jeffrey\",\"target\":\"Trey Scheid\",\"value\":173},{\"source\":\"Joe\",\"target\":\"Jeffrey\",\"value\":3},{\"source\":\"Joe\",\"target\":\"Joe\",\"value\":1},{\"source\":\"Joe\",\"target\":\"Todd Scheid\",\"value\":3},{\"source\":\"Joe\",\"target\":\"Trey Scheid\",\"value\":3},{\"source\":\"Joey\",\"target\":\"Chloe\",\"value\":3},{\"source\":\"Joey\",\"target\":\"Eshaan\",\"value\":6},{\"source\":\"Joey\",\"target\":\"Joey\",\"value\":3},{\"source\":\"Joey\",\"target\":\"Rania\",\"value\":3},{\"source\":\"Joey\",\"target\":\"Trey Scheid\",\"value\":3},{\"source\":\"Keane Kirchner \",\"target\":\"Bradley\",\"value\":3},{\"source\":\"Keane Kirchner \",\"target\":\"Gummo\",\"value\":3},{\"source\":\"Keane Kirchner \",\"target\":\"Keane Kirchner \",\"value\":3},{\"source\":\"Keane Kirchner \",\"target\":\"Trey Scheid\",\"value\":3},{\"source\":\"Keane Kirchner \",\"target\":\"Yurt\",\"value\":3},{\"source\":\"Keith Farmer\",\"target\":\"James \",\"value\":13},{\"source\":\"Keith Farmer\",\"target\":\"Jeffrey\",\"value\":13},{\"source\":\"Keith Farmer\",\"target\":\"Keith Farmer\",\"value\":8},{\"source\":\"Keith Farmer\",\"target\":\"Rob Park\",\"value\":10},{\"source\":\"Keith Farmer\",\"target\":\"Todd Scheid\",\"value\":8},{\"source\":\"Keith Farmer\",\"target\":\"Trey Scheid\",\"value\":13},{\"source\":\"Keith Farmer + Jeffrey\",\"target\":\"James  + Rob Park\",\"value\":3},{\"source\":\"Keith Farmer + Jeffrey\",\"target\":\"Keith Farmer + Jeffrey\",\"value\":3},{\"source\":\"Keith Farmer + Jeffrey\",\"target\":\"Trey Scheid + Todd Scheid\",\"value\":6},{\"source\":\"Mark Scheid\",\"target\":\"James \",\"value\":1},{\"source\":\"Mark Scheid\",\"target\":\"Mark Scheid\",\"value\":4},{\"source\":\"Mark Scheid\",\"target\":\"Payton C\",\"value\":3},{\"source\":\"Mark Scheid\",\"target\":\"Todd Scheid\",\"value\":8},{\"source\":\"Mark Scheid\",\"target\":\"Trey Scheid\",\"value\":4},{\"source\":\"Matt Wolff\",\"target\":\"Danny\",\"value\":6},{\"source\":\"Matt Wolff\",\"target\":\"George\",\"value\":6},{\"source\":\"Matt Wolff\",\"target\":\"Isaiah\",\"value\":3},{\"source\":\"Matt Wolff\",\"target\":\"James \",\"value\":3},{\"source\":\"Matt Wolff\",\"target\":\"Matt Wolff\",\"value\":9},{\"source\":\"Matt Wolff\",\"target\":\"Ryan \",\"value\":6},{\"source\":\"Matt Wolff\",\"target\":\"Sammy\",\"value\":12},{\"source\":\"Matt Wolff\",\"target\":\"Shane Johnson\",\"value\":3},{\"source\":\"Matt Wolff\",\"target\":\"Trey Scheid\",\"value\":15},{\"source\":\"Namo\",\"target\":\"Choppa\",\"value\":3},{\"source\":\"Namo\",\"target\":\"Namo\",\"value\":1},{\"source\":\"Namo\",\"target\":\"Trey Scheid\",\"value\":1},{\"source\":\"Namo\",\"target\":\"Zac\",\"value\":1},{\"source\":\"Nate\",\"target\":\"James \",\"value\":1},{\"source\":\"Nate\",\"target\":\"Nate\",\"value\":3},{\"source\":\"Nate\",\"target\":\"Ryan \",\"value\":7},{\"source\":\"Nate\",\"target\":\"Ryan Gay\",\"value\":3},{\"source\":\"Nate\",\"target\":\"Shane Johnson\",\"value\":1},{\"source\":\"Nate\",\"target\":\"Skyler\",\"value\":1},{\"source\":\"Nate\",\"target\":\"Todd Scheid\",\"value\":3},{\"source\":\"Nate\",\"target\":\"Trey Brown\",\"value\":3},{\"source\":\"Nate\",\"target\":\"Trey Scheid\",\"value\":5},{\"source\":\"Payton C\",\"target\":\"Mark Scheid\",\"value\":1},{\"source\":\"Payton C\",\"target\":\"Payton C\",\"value\":1},{\"source\":\"Payton C\",\"target\":\"Todd Scheid\",\"value\":1},{\"source\":\"Payton C\",\"target\":\"Trey Scheid\",\"value\":1},{\"source\":\"Rania\",\"target\":\"Chloe\",\"value\":6},{\"source\":\"Rania\",\"target\":\"Eshaan\",\"value\":6},{\"source\":\"Rania\",\"target\":\"Joey\",\"value\":6},{\"source\":\"Rania\",\"target\":\"Rania\",\"value\":3},{\"source\":\"Rania\",\"target\":\"Trey Scheid\",\"value\":3},{\"source\":\"Reid\",\"target\":\"Reid\",\"value\":3},{\"source\":\"Reid\",\"target\":\"Shane Johnson\",\"value\":3},{\"source\":\"Reid\",\"target\":\"Skyler\",\"value\":3},{\"source\":\"Rob Park\",\"target\":\"James \",\"value\":23},{\"source\":\"Rob Park\",\"target\":\"Jeffrey\",\"value\":19},{\"source\":\"Rob Park\",\"target\":\"Keith Farmer\",\"value\":16},{\"source\":\"Rob Park\",\"target\":\"Rob Park\",\"value\":15},{\"source\":\"Rob Park\",\"target\":\"Todd Scheid\",\"value\":14},{\"source\":\"Rob Park\",\"target\":\"Trey Scheid\",\"value\":22},{\"source\":\"Roger Cansler\",\"target\":\"Ian McDavid\",\"value\":1},{\"source\":\"Roger Cansler\",\"target\":\"James \",\"value\":1},{\"source\":\"Roger Cansler\",\"target\":\"Roger Cansler\",\"value\":1},{\"source\":\"Roger Cansler\",\"target\":\"Trey Scheid\",\"value\":1},{\"source\":\"Ryan \",\"target\":\"Danny\",\"value\":3},{\"source\":\"Ryan \",\"target\":\"Dave\",\"value\":3},{\"source\":\"Ryan \",\"target\":\"George\",\"value\":3},{\"source\":\"Ryan \",\"target\":\"James \",\"value\":6},{\"source\":\"Ryan \",\"target\":\"Jeffrey\",\"value\":6},{\"source\":\"Ryan \",\"target\":\"Matt Wolff\",\"value\":3},{\"source\":\"Ryan \",\"target\":\"Nate\",\"value\":5},{\"source\":\"Ryan \",\"target\":\"Ryan \",\"value\":14},{\"source\":\"Ryan \",\"target\":\"Ryan Gay\",\"value\":1},{\"source\":\"Ryan \",\"target\":\"Ryan P\",\"value\":6},{\"source\":\"Ryan \",\"target\":\"Sammy\",\"value\":6},{\"source\":\"Ryan \",\"target\":\"Shane Johnson\",\"value\":2},{\"source\":\"Ryan \",\"target\":\"Skyler\",\"value\":3},{\"source\":\"Ryan \",\"target\":\"Todd Scheid\",\"value\":4},{\"source\":\"Ryan \",\"target\":\"Trey Brown\",\"value\":1},{\"source\":\"Ryan \",\"target\":\"Trey Scheid\",\"value\":16},{\"source\":\"Ryan Gay\",\"target\":\"Nate\",\"value\":1},{\"source\":\"Ryan Gay\",\"target\":\"Ryan \",\"value\":3},{\"source\":\"Ryan Gay\",\"target\":\"Ryan Gay\",\"value\":1},{\"source\":\"Ryan Gay\",\"target\":\"Trey Brown\",\"value\":3},{\"source\":\"Ryan Gay\",\"target\":\"Trey Scheid\",\"value\":1},{\"source\":\"Ryan P\",\"target\":\"Jeffrey\",\"value\":3},{\"source\":\"Ryan P\",\"target\":\"Ryan \",\"value\":3},{\"source\":\"Ryan P\",\"target\":\"Ryan P\",\"value\":3},{\"source\":\"Ryan P\",\"target\":\"Trey Scheid\",\"value\":3},{\"source\":\"Sammy\",\"target\":\"Danny\",\"value\":18},{\"source\":\"Sammy\",\"target\":\"George\",\"value\":6},{\"source\":\"Sammy\",\"target\":\"Isaiah\",\"value\":9},{\"source\":\"Sammy\",\"target\":\"James \",\"value\":16},{\"source\":\"Sammy\",\"target\":\"Jeffrey\",\"value\":3},{\"source\":\"Sammy\",\"target\":\"Matt Wolff\",\"value\":6},{\"source\":\"Sammy\",\"target\":\"Ryan \",\"value\":12},{\"source\":\"Sammy\",\"target\":\"Sammy\",\"value\":41},{\"source\":\"Sammy\",\"target\":\"Todd Scheid\",\"value\":7},{\"source\":\"Sammy\",\"target\":\"Trey Scheid\",\"value\":56},{\"source\":\"Sequoya Daniels\",\"target\":\"Elum\",\"value\":1},{\"source\":\"Sequoya Daniels\",\"target\":\"Jake Gutkowski\",\"value\":1},{\"source\":\"Sequoya Daniels\",\"target\":\"Sequoya Daniels\",\"value\":1},{\"source\":\"Sequoya Daniels\",\"target\":\"Trey Scheid\",\"value\":3},{\"source\":\"Sequoya Daniels\",\"target\":\"Zac\",\"value\":1},{\"source\":\"Shane Johnson\",\"target\":\"Chloe\",\"value\":12},{\"source\":\"Shane Johnson\",\"target\":\"Danny\",\"value\":6},{\"source\":\"Shane Johnson\",\"target\":\"Eduardo\",\"value\":6},{\"source\":\"Shane Johnson\",\"target\":\"Isaiah\",\"value\":6},{\"source\":\"Shane Johnson\",\"target\":\"James \",\"value\":204},{\"source\":\"Shane Johnson\",\"target\":\"Jeffrey\",\"value\":173},{\"source\":\"Shane Johnson\",\"target\":\"Matt Wolff\",\"value\":6},{\"source\":\"Shane Johnson\",\"target\":\"Nate\",\"value\":3},{\"source\":\"Shane Johnson\",\"target\":\"Reid\",\"value\":6},{\"source\":\"Shane Johnson\",\"target\":\"Ryan \",\"value\":6},{\"source\":\"Shane Johnson\",\"target\":\"Shane Johnson\",\"value\":199},{\"source\":\"Shane Johnson\",\"target\":\"Skyler\",\"value\":9},{\"source\":\"Shane Johnson\",\"target\":\"Todd Scheid\",\"value\":83},{\"source\":\"Shane Johnson\",\"target\":\"Trey Scheid\",\"value\":277},{\"source\":\"Shane Johnson\",\"target\":\"Zoe\",\"value\":15},{\"source\":\"Skyler\",\"target\":\"James \",\"value\":1},{\"source\":\"Skyler\",\"target\":\"Nate\",\"value\":3},{\"source\":\"Skyler\",\"target\":\"Reid\",\"value\":6},{\"source\":\"Skyler\",\"target\":\"Ryan \",\"value\":1},{\"source\":\"Skyler\",\"target\":\"Shane Johnson\",\"value\":4},{\"source\":\"Skyler\",\"target\":\"Skyler\",\"value\":4},{\"source\":\"Skyler\",\"target\":\"Trey Scheid\",\"value\":1},{\"source\":\"Tade\",\"target\":\"Tade\",\"value\":8},{\"source\":\"Tade\",\"target\":\"Tobi\",\"value\":1},{\"source\":\"Tade\",\"target\":\"Todd Scheid\",\"value\":5},{\"source\":\"Tade\",\"target\":\"Trey Scheid\",\"value\":14},{\"source\":\"Tobi\",\"target\":\"Tade\",\"value\":3},{\"source\":\"Tobi\",\"target\":\"Tobi\",\"value\":4},{\"source\":\"Tobi\",\"target\":\"Todd Scheid\",\"value\":1},{\"source\":\"Tobi\",\"target\":\"Trey Scheid\",\"value\":4},{\"source\":\"Todd Scheid\",\"target\":\"Danny\",\"value\":6},{\"source\":\"Todd Scheid\",\"target\":\"Dave\",\"value\":3},{\"source\":\"Todd Scheid\",\"target\":\"James \",\"value\":72},{\"source\":\"Todd Scheid\",\"target\":\"Jeffrey\",\"value\":65},{\"source\":\"Todd Scheid\",\"target\":\"Joe\",\"value\":1},{\"source\":\"Todd Scheid\",\"target\":\"Keith Farmer\",\"value\":18},{\"source\":\"Todd Scheid\",\"target\":\"Mark Scheid\",\"value\":8},{\"source\":\"Todd Scheid\",\"target\":\"Nate\",\"value\":1},{\"source\":\"Todd Scheid\",\"target\":\"Payton C\",\"value\":3},{\"source\":\"Todd Scheid\",\"target\":\"Rob Park\",\"value\":21},{\"source\":\"Todd Scheid\",\"target\":\"Ryan \",\"value\":4},{\"source\":\"Todd Scheid\",\"target\":\"Sammy\",\"value\":15},{\"source\":\"Todd Scheid\",\"target\":\"Shane Johnson\",\"value\":79},{\"source\":\"Todd Scheid\",\"target\":\"Tade\",\"value\":12},{\"source\":\"Todd Scheid\",\"target\":\"Tobi\",\"value\":3},{\"source\":\"Todd Scheid\",\"target\":\"Todd Scheid\",\"value\":182},{\"source\":\"Todd Scheid\",\"target\":\"Trey Scheid\",\"value\":216},{\"source\":\"Todd Scheid\",\"target\":\"Zoe\",\"value\":15},{\"source\":\"Trey Brown\",\"target\":\"Nate\",\"value\":1},{\"source\":\"Trey Brown\",\"target\":\"Ryan \",\"value\":3},{\"source\":\"Trey Brown\",\"target\":\"Ryan Gay\",\"value\":1},{\"source\":\"Trey Brown\",\"target\":\"Trey Brown\",\"value\":1},{\"source\":\"Trey Brown\",\"target\":\"Trey Scheid\",\"value\":1},{\"source\":\"Trey Scheid\",\"target\":\"Bing bing\",\"value\":1},{\"source\":\"Trey Scheid\",\"target\":\"Bradley\",\"value\":13},{\"source\":\"Trey Scheid\",\"target\":\"Chloe\",\"value\":21},{\"source\":\"Trey Scheid\",\"target\":\"Choppa\",\"value\":3},{\"source\":\"Trey Scheid\",\"target\":\"Danny\",\"value\":33},{\"source\":\"Trey Scheid\",\"target\":\"Dave\",\"value\":3},{\"source\":\"Trey Scheid\",\"target\":\"Eduardo\",\"value\":6},{\"source\":\"Trey Scheid\",\"target\":\"Elum\",\"value\":1},{\"source\":\"Trey Scheid\",\"target\":\"Eshaan\",\"value\":6},{\"source\":\"Trey Scheid\",\"target\":\"George\",\"value\":3},{\"source\":\"Trey Scheid\",\"target\":\"Gummo\",\"value\":9},{\"source\":\"Trey Scheid\",\"target\":\"Ian McDavid\",\"value\":1},{\"source\":\"Trey Scheid\",\"target\":\"Isaiah\",\"value\":18},{\"source\":\"Trey Scheid\",\"target\":\"Jake Gutkowski\",\"value\":1},{\"source\":\"Trey Scheid\",\"target\":\"James \",\"value\":369},{\"source\":\"Trey Scheid\",\"target\":\"Jeffrey\",\"value\":298},{\"source\":\"Trey Scheid\",\"target\":\"Joe\",\"value\":1},{\"source\":\"Trey Scheid\",\"target\":\"Joey\",\"value\":6},{\"source\":\"Trey Scheid\",\"target\":\"Keane Kirchner \",\"value\":6},{\"source\":\"Trey Scheid\",\"target\":\"Keith Farmer\",\"value\":13},{\"source\":\"Trey Scheid\",\"target\":\"Mark Scheid\",\"value\":12},{\"source\":\"Trey Scheid\",\"target\":\"Matt Wolff\",\"value\":12},{\"source\":\"Trey Scheid\",\"target\":\"Namo\",\"value\":3},{\"source\":\"Trey Scheid\",\"target\":\"Nate\",\"value\":7},{\"source\":\"Trey Scheid\",\"target\":\"Payton C\",\"value\":3},{\"source\":\"Trey Scheid\",\"target\":\"Rania\",\"value\":6},{\"source\":\"Trey Scheid\",\"target\":\"Rob Park\",\"value\":26},{\"source\":\"Trey Scheid\",\"target\":\"Roger Cansler\",\"value\":3},{\"source\":\"Trey Scheid\",\"target\":\"Ryan \",\"value\":31},{\"source\":\"Trey Scheid\",\"target\":\"Ryan Gay\",\"value\":3},{\"source\":\"Trey Scheid\",\"target\":\"Ryan P\",\"value\":6},{\"source\":\"Trey Scheid\",\"target\":\"Sammy\",\"value\":69},{\"source\":\"Trey Scheid\",\"target\":\"Sequoya Daniels\",\"value\":1},{\"source\":\"Trey Scheid\",\"target\":\"Shane Johnson\",\"value\":349},{\"source\":\"Trey Scheid\",\"target\":\"Skyler\",\"value\":3},{\"source\":\"Trey Scheid\",\"target\":\"Tade\",\"value\":12},{\"source\":\"Trey Scheid\",\"target\":\"Tobi\",\"value\":9},{\"source\":\"Trey Scheid\",\"target\":\"Todd Scheid\",\"value\":336},{\"source\":\"Trey Scheid\",\"target\":\"Trey Brown\",\"value\":3},{\"source\":\"Trey Scheid\",\"target\":\"Trey Scheid\",\"value\":438},{\"source\":\"Trey Scheid\",\"target\":\"Yurt\",\"value\":12},{\"source\":\"Trey Scheid\",\"target\":\"Zac\",\"value\":4},{\"source\":\"Trey Scheid\",\"target\":\"Zoe\",\"value\":15},{\"source\":\"Trey Scheid + Todd Scheid\",\"target\":\"James  + Rob Park\",\"value\":3},{\"source\":\"Trey Scheid + Todd Scheid\",\"target\":\"Keith Farmer + Jeffrey\",\"value\":3},{\"source\":\"Trey Scheid + Todd Scheid\",\"target\":\"Trey Scheid + Todd Scheid\",\"value\":3},{\"source\":\"Yurt\",\"target\":\"Bradley\",\"value\":5},{\"source\":\"Yurt\",\"target\":\"Gummo\",\"value\":9},{\"source\":\"Yurt\",\"target\":\"Keane Kirchner \",\"value\":6},{\"source\":\"Yurt\",\"target\":\"Trey Scheid\",\"value\":5},{\"source\":\"Yurt\",\"target\":\"Yurt\",\"value\":5},{\"source\":\"Zac\",\"target\":\"Choppa\",\"value\":3},{\"source\":\"Zac\",\"target\":\"Elum\",\"value\":3},{\"source\":\"Zac\",\"target\":\"Jake Gutkowski\",\"value\":1},{\"source\":\"Zac\",\"target\":\"Namo\",\"value\":3},{\"source\":\"Zac\",\"target\":\"Sequoya Daniels\",\"value\":3},{\"source\":\"Zac\",\"target\":\"Trey Scheid\",\"value\":4},{\"source\":\"Zac\",\"target\":\"Zac\",\"value\":2},{\"source\":\"Zoe\",\"target\":\"James \",\"value\":7},{\"source\":\"Zoe\",\"target\":\"Shane Johnson\",\"value\":7},{\"source\":\"Zoe\",\"target\":\"Todd Scheid\",\"value\":12},{\"source\":\"Zoe\",\"target\":\"Trey Scheid\",\"value\":7},{\"source\":\"Zoe\",\"target\":\"Zoe\",\"value\":7}]'"
      ]
     },
     "execution_count": 22,
     "metadata": {},
     "output_type": "execute_result"
    }
   ],
   "source": [
    "#json format links\n",
    "links = finishing_links.to_json(orient=\"records\")\n",
    "links"
   ]
  },
  {
   "cell_type": "code",
   "execution_count": 23,
   "id": "d339018e",
   "metadata": {},
   "outputs": [
    {
     "data": {
      "text/plain": [
       "'[{\"index\":0,\"PlayerName\":\"Bing bing\",\"Total\":1},{\"index\":1,\"PlayerName\":\"Bradley\",\"Total\":4},{\"index\":2,\"PlayerName\":\"Chloe\",\"Total\":5},{\"index\":3,\"PlayerName\":\"Choppa\",\"Total\":1},{\"index\":4,\"PlayerName\":\"Danny\",\"Total\":10},{\"index\":5,\"PlayerName\":\"Dave\",\"Total\":1},{\"index\":6,\"PlayerName\":\"Eduardo\",\"Total\":2},{\"index\":7,\"PlayerName\":\"Elum\",\"Total\":1},{\"index\":8,\"PlayerName\":\"Eshaan\",\"Total\":1},{\"index\":9,\"PlayerName\":\"George\",\"Total\":1},{\"index\":10,\"PlayerName\":\"Gummo\",\"Total\":2},{\"index\":11,\"PlayerName\":\"Ian McDavid\",\"Total\":1},{\"index\":12,\"PlayerName\":\"Isaiah\",\"Total\":3},{\"index\":13,\"PlayerName\":\"Jake Gutkowski\",\"Total\":1},{\"index\":14,\"PlayerName\":\"James \",\"Total\":98},{\"index\":15,\"PlayerName\":\"James  + Rob Park\",\"Total\":1},{\"index\":16,\"PlayerName\":\"Jeffrey\",\"Total\":74},{\"index\":17,\"PlayerName\":\"Joe\",\"Total\":1},{\"index\":18,\"PlayerName\":\"Joey\",\"Total\":1},{\"index\":19,\"PlayerName\":\"Keane Kirchner \",\"Total\":1},{\"index\":20,\"PlayerName\":\"Keith Farmer\",\"Total\":4},{\"index\":21,\"PlayerName\":\"Keith Farmer + Jeffrey\",\"Total\":1},{\"index\":22,\"PlayerName\":\"Mark Scheid\",\"Total\":4},{\"index\":23,\"PlayerName\":\"Matt Wolff\",\"Total\":3},{\"index\":24,\"PlayerName\":\"Namo\",\"Total\":1},{\"index\":25,\"PlayerName\":\"Nate\",\"Total\":3},{\"index\":26,\"PlayerName\":\"Par\",\"Total\":219},{\"index\":27,\"PlayerName\":\"Payton C\",\"Total\":1},{\"index\":28,\"PlayerName\":\"Rania\",\"Total\":1},{\"index\":29,\"PlayerName\":\"Reid\",\"Total\":1},{\"index\":30,\"PlayerName\":\"Rob Park\",\"Total\":7},{\"index\":31,\"PlayerName\":\"Roger Cansler\",\"Total\":1},{\"index\":32,\"PlayerName\":\"Ryan \",\"Total\":8},{\"index\":33,\"PlayerName\":\"Ryan Gay\",\"Total\":1},{\"index\":34,\"PlayerName\":\"Ryan P\",\"Total\":1},{\"index\":35,\"PlayerName\":\"Sammy\",\"Total\":15},{\"index\":36,\"PlayerName\":\"Sequoya Daniels\",\"Total\":1},{\"index\":37,\"PlayerName\":\"Shane Johnson\",\"Total\":99},{\"index\":38,\"PlayerName\":\"Skyler\",\"Total\":2},{\"index\":39,\"PlayerName\":\"Tade\",\"Total\":4},{\"index\":40,\"PlayerName\":\"Tobi\",\"Total\":2},{\"index\":41,\"PlayerName\":\"Todd Scheid\",\"Total\":87},{\"index\":42,\"PlayerName\":\"Trey Brown\",\"Total\":1},{\"index\":43,\"PlayerName\":\"Trey Scheid\",\"Total\":215},{\"index\":44,\"PlayerName\":\"Trey Scheid + Todd Scheid\",\"Total\":1},{\"index\":45,\"PlayerName\":\"Yurt\",\"Total\":3},{\"index\":46,\"PlayerName\":\"Zac\",\"Total\":2},{\"index\":47,\"PlayerName\":\"Zoe\",\"Total\":3}]'"
      ]
     },
     "execution_count": 23,
     "metadata": {},
     "output_type": "execute_result"
    }
   ],
   "source": [
    "# format nodes list for json\n",
    "\n",
    "people = pd.Series(udisc[\"PlayerName\"].unique()[1:].copy())\n",
    "people = udisc.groupby(\"PlayerName\")[\"Total\"].count().reset_index()\n",
    "nodes = people.to_json(orient=\"table\").split(\",\\\"data\\\":\")[1].strip(\"}\")\n",
    "nodes"
   ]
  },
  {
   "cell_type": "code",
   "execution_count": 24,
   "id": "35832580",
   "metadata": {},
   "outputs": [],
   "source": [
    "# combine nodes and links ready for d3.js\n",
    "json_string = \"{\\\"nodes\\\":\" + nodes + \",\\\"links\\\":\" + links + \"}\""
   ]
  },
  {
   "cell_type": "code",
   "execution_count": 25,
   "id": "9dfaf305",
   "metadata": {},
   "outputs": [],
   "source": [
    "# write to json\n",
    "json_file = open(\"code/data/nodelink.json\", \"wt\")\n",
    "nchars = json_file.write(json_string)\n",
    "json_file.close()"
   ]
  },
  {
   "cell_type": "code",
   "execution_count": 26,
   "id": "df6f1786",
   "metadata": {},
   "outputs": [
    {
     "name": "stdout",
     "output_type": "stream",
     "text": [
      "20077\n"
     ]
    },
    {
     "data": {
      "text/plain": [
       "True"
      ]
     },
     "execution_count": 26,
     "metadata": {},
     "output_type": "execute_result"
    }
   ],
   "source": [
    "#check success\n",
    "print(nchars)\n",
    "len(json_string) == nchars"
   ]
  },
  {
   "cell_type": "markdown",
   "id": "0214838e",
   "metadata": {},
   "source": [
    "# Time Preprocessing"
   ]
  },
  {
   "cell_type": "raw",
   "id": "129d7e4b",
   "metadata": {},
   "source": [
    "For Unique courses over time"
   ]
  },
  {
   "cell_type": "code",
   "execution_count": 27,
   "id": "0e20009a",
   "metadata": {
    "scrolled": true
   },
   "outputs": [
    {
     "name": "stdout",
     "output_type": "stream",
     "text": [
      "k Trey Scheid v {'DeLaveaga Disc Golf Course', 'Morley Field', 'Oyster Bay Disc Golf Course', 'Mast Park', 'Benicia Community Park', 'Hume Lake Christian Camp', 'Lake Chabot Golf Course', 'Chavez Ridge at Elysian', 'Hillcrest Park', 'Hanns Park', 'Creekside Park', 'Kelley Park Disc Golf', 'Kit Carson Park', 'Walden Park', 'Monarch Bay', 'New Hogan Dam East', 'Moraga Commons Park', 'Taylor Mountain', 'Lagoon Valley', 'New Hogan Dam West', 'Aquatic Park', 'Rosa Park', 'La Mirada Regional Park Back', 'Golden Gate Park'} \n",
      "\n",
      "\n",
      "k Reid v {'Walden Park'} \n",
      "\n",
      "\n",
      "k Shane Johnson v {'DeLaveaga Disc Golf Course', 'Benicia Community Park', 'New Hogan Dam West', 'Lake Chabot Golf Course', 'Morley Field', 'Aquatic Park', 'Moraga Commons Park', 'Kit Carson Park', 'Walden Park', 'Golden Gate Park', 'New Hogan Dam East', 'Hillcrest Park', 'Hanns Park', 'Lagoon Valley'} \n",
      "\n",
      "\n",
      "k Skyler v {'Walden Park', 'Moraga Commons Park'} \n",
      "\n",
      "\n",
      "k Todd Scheid v {'DeLaveaga Disc Golf Course', 'Benicia Community Park', 'Morley Field', 'Lake Chabot Golf Course', 'Aquatic Park', 'Rosa Park', 'Walden Park', 'Golden Gate Park', 'Hillcrest Park', 'Monarch Bay', 'Creekside Park', 'Chavez Ridge at Elysian', 'Moraga Commons Park', 'Taylor Mountain', 'Kelley Park Disc Golf', 'Lagoon Valley'} \n",
      "\n",
      "\n",
      "k Jeffrey v {'DeLaveaga Disc Golf Course', 'Benicia Community Park', 'New Hogan Dam West', 'Lake Chabot Golf Course', 'Aquatic Park', 'Walden Park', 'Hillcrest Park', 'Golden Gate Park', 'Oyster Bay Disc Golf Course', 'New Hogan Dam East', 'Moraga Commons Park', 'Hanns Park', 'Lagoon Valley'} \n",
      "\n",
      "\n",
      "k Tade v {'Walden Park', 'Morley Field', 'Lake Chabot Golf Course', 'Golden Gate Park'} \n",
      "\n",
      "\n",
      "k Tobi v {'Walden Park', 'Morley Field'} \n",
      "\n",
      "\n",
      "k Ryan  v {'Hume Lake Christian Camp', 'Moraga Commons Park', 'Golden Gate Park', 'Walden Park', 'Hillcrest Park'} \n",
      "\n",
      "\n",
      "k Ryan P v {'Moraga Commons Park'} \n",
      "\n",
      "\n",
      "k James  v {'DeLaveaga Disc Golf Course', 'Benicia Community Park', 'New Hogan Dam West', 'Lake Chabot Golf Course', 'Aquatic Park', 'Moraga Commons Park', 'Walden Park', 'Golden Gate Park', 'New Hogan Dam East', 'Hillcrest Park', 'Hanns Park', 'Lagoon Valley'} \n",
      "\n",
      "\n",
      "k Keith Farmer v {'Benicia Community Park', 'Moraga Commons Park', 'Lake Chabot Golf Course'} \n",
      "\n",
      "\n",
      "k Rob Park v {'Benicia Community Park', 'Lake Chabot Golf Course', 'Moraga Commons Park', 'Walden Park', 'Hillcrest Park'} \n",
      "\n",
      "\n",
      "k James  + Rob Park v {'Moraga Commons Park'} \n",
      "\n",
      "\n",
      "k Keith Farmer + Jeffrey v {'Moraga Commons Park'} \n",
      "\n",
      "\n",
      "k Trey Scheid + Todd Scheid v {'Moraga Commons Park'} \n",
      "\n",
      "\n",
      "k Dave v {'Hillcrest Park'} \n",
      "\n",
      "\n",
      "k Nate v {'Golden Gate Park', 'Hume Lake Christian Camp', 'Moraga Commons Park'} \n",
      "\n",
      "\n",
      "k Danny v {'Walden Park', 'Hume Lake Christian Camp', 'Hillcrest Park'} \n",
      "\n",
      "\n",
      "k Mark Scheid v {'Hillcrest Park', 'Lake Chabot Golf Course', 'Taylor Mountain', 'Rosa Park'} \n",
      "\n",
      "\n",
      "k Ryan Gay v {'Hume Lake Christian Camp'} \n",
      "\n",
      "\n",
      "k Trey Brown v {'Hume Lake Christian Camp'} \n",
      "\n",
      "\n",
      "k Matt Wolff v {'Walden Park'} \n",
      "\n",
      "\n",
      "k Sammy v {'Walden Park', 'Hillcrest Park', 'Moraga Commons Park'} \n",
      "\n",
      "\n",
      "k Isaiah v {'Walden Park', 'Hillcrest Park'} \n",
      "\n",
      "\n",
      "k George v {'Walden Park'} \n",
      "\n",
      "\n",
      "k Joe v {'Golden Gate Park'} \n",
      "\n",
      "\n",
      "k Payton C v {'Rosa Park'} \n",
      "\n",
      "\n",
      "k Zoe v {'Golden Gate Park', 'Hillcrest Park'} \n",
      "\n",
      "\n",
      "k Ian McDavid v {'Hillcrest Park'} \n",
      "\n",
      "\n",
      "k Roger Cansler v {'Hillcrest Park'} \n",
      "\n",
      "\n",
      "k Chloe v {'Golden Gate Park', 'Morley Field', 'Hillcrest Park'} \n",
      "\n",
      "\n",
      "k Eshaan v {'Morley Field'} \n",
      "\n",
      "\n",
      "k Joey v {'Morley Field'} \n",
      "\n",
      "\n",
      "k Rania v {'Morley Field'} \n",
      "\n",
      "\n",
      "k Elum v {'La Mirada Regional Park Back'} \n",
      "\n",
      "\n",
      "k Jake Gutkowski v {'La Mirada Regional Park Back'} \n",
      "\n",
      "\n",
      "k Sequoya Daniels v {'La Mirada Regional Park Back'} \n",
      "\n",
      "\n",
      "k Zac v {'La Mirada Regional Park Back', 'Kit Carson Park'} \n",
      "\n",
      "\n",
      "k Bradley v {'Morley Field', 'Kit Carson Park', 'Mast Park'} \n",
      "\n",
      "\n",
      "k Gummo v {'Morley Field', 'Mast Park'} \n",
      "\n",
      "\n",
      "k Yurt v {'Morley Field', 'Kit Carson Park', 'Mast Park'} \n",
      "\n",
      "\n",
      "k Keane Kirchner  v {'Mast Park'} \n",
      "\n",
      "\n",
      "k Choppa v {'Kit Carson Park'} \n",
      "\n",
      "\n",
      "k Namo v {'Kit Carson Park'} \n",
      "\n",
      "\n",
      "k Bing bing v {'Kit Carson Park'} \n",
      "\n",
      "\n",
      "k Eduardo v {'Morley Field'} \n",
      "\n",
      "\n"
     ]
    },
    {
     "name": "stderr",
     "output_type": "stream",
     "text": [
      "/var/folders/31/df158hy936q0z2m_dr_493pm0000gn/T/ipykernel_10809/1209228275.py:3: FutureWarning: The default dtype for empty Series will be 'object' instead of 'float64' in a future version. Specify a dtype explicitly to silence this warning.\n",
      "  out = pd.Series(index=df.index)\n"
     ]
    }
   ],
   "source": [
    "df = udisc[udisc[\"PlayerName\"] != \"Par\"][[\"PlayerName\", \"CourseName\", \"Date\"]].copy().sort_values(['Date', 'PlayerName']).reset_index(drop=True)\n",
    "visited = dict.fromkeys(list(df[\"PlayerName\"].unique()), None)\n",
    "out = pd.Series(index=df.index)\n",
    "for row in range(df.shape[0]):#\n",
    "#     print(visited[df.loc[row, \"PlayerName\"]].add(df.loc[row, \"CourseName\"]))\n",
    "#     print(row)\n",
    "#     print(df.loc[row, \"PlayerName\"])\n",
    "    tempset = visited[df.loc[row, \"PlayerName\"]]\n",
    "    if (tempset is None):\n",
    "        tempset = set()\n",
    "#     print(tempset)\n",
    "    tempset.add(df.loc[row, \"CourseName\"])\n",
    "#     print(tempset)\n",
    "    visited[df.loc[row, \"PlayerName\"]] = tempset\n",
    "    out[row] = len(visited[df.loc[row, \"PlayerName\"]])\n",
    "\n",
    "for key, val in visited.items():\n",
    "    print(\"k\", key, \"v\", visited[key], \"\\n\\n\")"
   ]
  },
  {
   "cell_type": "code",
   "execution_count": 28,
   "id": "32b5609c",
   "metadata": {},
   "outputs": [
    {
     "data": {
      "text/plain": [
       "0       1.0\n",
       "1       1.0\n",
       "2       1.0\n",
       "3       1.0\n",
       "4       2.0\n",
       "       ... \n",
       "677    14.0\n",
       "678    24.0\n",
       "679     5.0\n",
       "680    14.0\n",
       "681    24.0\n",
       "Length: 682, dtype: float64"
      ]
     },
     "execution_count": 28,
     "metadata": {},
     "output_type": "execute_result"
    }
   ],
   "source": [
    "out"
   ]
  },
  {
   "cell_type": "code",
   "execution_count": 29,
   "id": "f249bc40",
   "metadata": {},
   "outputs": [],
   "source": [
    "df[\"CoursesPlayed\"] = out"
   ]
  },
  {
   "cell_type": "code",
   "execution_count": null,
   "id": "5fb61bb2",
   "metadata": {},
   "outputs": [],
   "source": []
  },
  {
   "cell_type": "code",
   "execution_count": null,
   "id": "d3e987e8",
   "metadata": {},
   "outputs": [],
   "source": []
  },
  {
   "cell_type": "code",
   "execution_count": 30,
   "id": "da0f7514",
   "metadata": {},
   "outputs": [],
   "source": [
    "df = df.drop_duplicates(ignore_index=True)"
   ]
  },
  {
   "cell_type": "code",
   "execution_count": 31,
   "id": "242182f4",
   "metadata": {},
   "outputs": [
    {
     "data": {
      "text/html": [
       "<div>\n",
       "<style scoped>\n",
       "    .dataframe tbody tr th:only-of-type {\n",
       "        vertical-align: middle;\n",
       "    }\n",
       "\n",
       "    .dataframe tbody tr th {\n",
       "        vertical-align: top;\n",
       "    }\n",
       "\n",
       "    .dataframe thead th {\n",
       "        text-align: right;\n",
       "    }\n",
       "</style>\n",
       "<table border=\"1\" class=\"dataframe\">\n",
       "  <thead>\n",
       "    <tr style=\"text-align: right;\">\n",
       "      <th></th>\n",
       "      <th>Date</th>\n",
       "      <th>PlayerName</th>\n",
       "      <th>CourseName</th>\n",
       "      <th>CoursesPlayed</th>\n",
       "    </tr>\n",
       "  </thead>\n",
       "  <tbody>\n",
       "    <tr>\n",
       "      <th>45</th>\n",
       "      <td>2016-11-11 0000</td>\n",
       "      <td>Bing bing</td>\n",
       "      <td>NaN</td>\n",
       "      <td>0.0</td>\n",
       "    </tr>\n",
       "    <tr>\n",
       "      <th>39</th>\n",
       "      <td>2016-11-11 0000</td>\n",
       "      <td>Bradley</td>\n",
       "      <td>NaN</td>\n",
       "      <td>0.0</td>\n",
       "    </tr>\n",
       "    <tr>\n",
       "      <th>31</th>\n",
       "      <td>2016-11-11 0000</td>\n",
       "      <td>Chloe</td>\n",
       "      <td>NaN</td>\n",
       "      <td>0.0</td>\n",
       "    </tr>\n",
       "    <tr>\n",
       "      <th>43</th>\n",
       "      <td>2016-11-11 0000</td>\n",
       "      <td>Choppa</td>\n",
       "      <td>NaN</td>\n",
       "      <td>0.0</td>\n",
       "    </tr>\n",
       "    <tr>\n",
       "      <th>18</th>\n",
       "      <td>2016-11-11 0000</td>\n",
       "      <td>Danny</td>\n",
       "      <td>NaN</td>\n",
       "      <td>0.0</td>\n",
       "    </tr>\n",
       "    <tr>\n",
       "      <th>...</th>\n",
       "      <td>...</td>\n",
       "      <td>...</td>\n",
       "      <td>...</td>\n",
       "      <td>...</td>\n",
       "    </tr>\n",
       "    <tr>\n",
       "      <th>10246</th>\n",
       "      <td>2023-05-30 1129</td>\n",
       "      <td>Trey Scheid</td>\n",
       "      <td>Hillcrest Park</td>\n",
       "      <td>24.0</td>\n",
       "    </tr>\n",
       "    <tr>\n",
       "      <th>10261</th>\n",
       "      <td>2023-05-30 1129</td>\n",
       "      <td>Trey Scheid + Todd Scheid</td>\n",
       "      <td>NaN</td>\n",
       "      <td>1.0</td>\n",
       "    </tr>\n",
       "    <tr>\n",
       "      <th>10287</th>\n",
       "      <td>2023-05-30 1129</td>\n",
       "      <td>Yurt</td>\n",
       "      <td>NaN</td>\n",
       "      <td>3.0</td>\n",
       "    </tr>\n",
       "    <tr>\n",
       "      <th>10284</th>\n",
       "      <td>2023-05-30 1129</td>\n",
       "      <td>Zac</td>\n",
       "      <td>NaN</td>\n",
       "      <td>2.0</td>\n",
       "    </tr>\n",
       "    <tr>\n",
       "      <th>10274</th>\n",
       "      <td>2023-05-30 1129</td>\n",
       "      <td>Zoe</td>\n",
       "      <td>NaN</td>\n",
       "      <td>2.0</td>\n",
       "    </tr>\n",
       "  </tbody>\n",
       "</table>\n",
       "<p>10293 rows × 4 columns</p>\n",
       "</div>"
      ],
      "text/plain": [
       "                  Date                 PlayerName      CourseName  \\\n",
       "45     2016-11-11 0000                  Bing bing             NaN   \n",
       "39     2016-11-11 0000                    Bradley             NaN   \n",
       "31     2016-11-11 0000                      Chloe             NaN   \n",
       "43     2016-11-11 0000                     Choppa             NaN   \n",
       "18     2016-11-11 0000                      Danny             NaN   \n",
       "...                ...                        ...             ...   \n",
       "10246  2023-05-30 1129                Trey Scheid  Hillcrest Park   \n",
       "10261  2023-05-30 1129  Trey Scheid + Todd Scheid             NaN   \n",
       "10287  2023-05-30 1129                       Yurt             NaN   \n",
       "10284  2023-05-30 1129                        Zac             NaN   \n",
       "10274  2023-05-30 1129                        Zoe             NaN   \n",
       "\n",
       "       CoursesPlayed  \n",
       "45               0.0  \n",
       "39               0.0  \n",
       "31               0.0  \n",
       "43               0.0  \n",
       "18               0.0  \n",
       "...              ...  \n",
       "10246           24.0  \n",
       "10261            1.0  \n",
       "10287            3.0  \n",
       "10284            2.0  \n",
       "10274            2.0  \n",
       "\n",
       "[10293 rows x 4 columns]"
      ]
     },
     "execution_count": 31,
     "metadata": {},
     "output_type": "execute_result"
    }
   ],
   "source": [
    "# Create a list of all unique dates and players\n",
    "all_dates = df['Date'].unique()\n",
    "all_players = df['PlayerName'].unique()\n",
    "\n",
    "# Create a multi-index DataFrame with all combinations of dates and players\n",
    "index = pd.MultiIndex.from_product([all_dates, all_players], names=['Date', 'PlayerName'])\n",
    "df = df.set_index(['Date', 'PlayerName']).reindex(index)\n",
    "\n",
    "# Reset the index to convert the multi-index DataFrame to a regular DataFrame\n",
    "df = df.reset_index()\n",
    "\n",
    "# Sort the DataFrame by Date and PlayerName\n",
    "df = df.sort_values(['Date', 'PlayerName'])\n",
    "\n",
    "# Forward fill missing values within each player group\n",
    "df['CoursesPlayed'] = df.groupby('PlayerName')['CoursesPlayed'].fillna(method='ffill')\n",
    "\n",
    "# Fill remaining missing values with 0\n",
    "df['CoursesPlayed'] = df['CoursesPlayed'].fillna(0)\n",
    "\n",
    "# Print the resulting dataframe\n",
    "df"
   ]
  },
  {
   "cell_type": "markdown",
   "id": "3db8810f",
   "metadata": {},
   "source": [
    "Fill in empty rows"
   ]
  },
  {
   "cell_type": "code",
   "execution_count": 32,
   "id": "66d55cb1",
   "metadata": {},
   "outputs": [],
   "source": [
    "df.to_csv(\"code/data/timepreprocessed.csv\", index=False)"
   ]
  },
  {
   "cell_type": "code",
   "execution_count": null,
   "id": "84817629",
   "metadata": {},
   "outputs": [],
   "source": []
  },
  {
   "cell_type": "markdown",
   "id": "041e37de",
   "metadata": {},
   "source": [
    "## EDA\n",
    "no correlations found"
   ]
  },
  {
   "cell_type": "code",
   "execution_count": 33,
   "id": "6372ee0f",
   "metadata": {},
   "outputs": [
    {
     "data": {
      "text/plain": [
       "CourseName              Date           \n",
       "Aquatic Park            2019-01-01 1600    5\n",
       "                        2022-08-26 1427    4\n",
       "Benicia Community Park  2016-11-13 1744    3\n",
       "                        2017-06-28 1417    4\n",
       "                        2017-08-04 0000    1\n",
       "                                          ..\n",
       "Walden Park             2022-09-07 1219    1\n",
       "                        2022-09-07 1220    2\n",
       "                        2022-09-12 1616    3\n",
       "                        2022-12-13 1432    3\n",
       "                        2022-12-13 1433    2\n",
       "Name: num_players, Length: 219, dtype: int64"
      ]
     },
     "execution_count": 33,
     "metadata": {},
     "output_type": "execute_result"
    }
   ],
   "source": [
    "num_players = udisc.groupby([\"CourseName\",\"Date\"])[\"Total\"].count() - 1 #-1 for par row\n",
    "num_players.name = \"num_players\"\n",
    "num_players"
   ]
  },
  {
   "cell_type": "code",
   "execution_count": 34,
   "id": "b925ac74",
   "metadata": {},
   "outputs": [
    {
     "data": {
      "text/plain": [
       "CourseName              Date           \n",
       "Aquatic Park            2019-01-01 1600    18\n",
       "                        2022-08-26 1427    18\n",
       "Benicia Community Park  2016-11-13 1744     9\n",
       "                        2017-06-28 1417     9\n",
       "                        2017-08-04 0000     9\n",
       "                                           ..\n",
       "Walden Park             2022-09-07 1219     9\n",
       "                        2022-09-07 1220     9\n",
       "                        2022-09-12 1616    18\n",
       "                        2022-12-13 1432    18\n",
       "                        2022-12-13 1433     9\n",
       "Name: num_holes, Length: 219, dtype: int64"
      ]
     },
     "execution_count": 34,
     "metadata": {},
     "output_type": "execute_result"
    }
   ],
   "source": [
    "num_holes = (udisc.groupby([\"CourseName\", \"Date\"]).sum() != 0).sum(axis=1) - 2\n",
    "num_holes.name = \"num_holes\"\n",
    "num_holes"
   ]
  },
  {
   "cell_type": "code",
   "execution_count": 35,
   "id": "8bcac85a",
   "metadata": {},
   "outputs": [
    {
     "data": {
      "text/plain": [
       "CourseName              Date           \n",
       "Aquatic Park            2019-01-01 1600    6.0\n",
       "                        2022-08-26 1427    2.0\n",
       "Benicia Community Park  2016-11-13 1744    2.0\n",
       "                        2017-06-28 1417    8.0\n",
       "                        2017-08-04 0000    6.0\n",
       "                                          ... \n",
       "Walden Park             2022-09-07 1219   -2.0\n",
       "                        2022-09-07 1220   -1.0\n",
       "                        2022-09-12 1616   -5.0\n",
       "                        2022-12-13 1432   -9.0\n",
       "                        2022-12-13 1433   -4.0\n",
       "Name: trey_score, Length: 215, dtype: float64"
      ]
     },
     "execution_count": 35,
     "metadata": {},
     "output_type": "execute_result"
    }
   ],
   "source": [
    "trey_score = udisc[udisc[\"PlayerName\"] == \"Trey Scheid\"].groupby([\"CourseName\",\"Date\"])[\"+/-\"].max()\n",
    "trey_score.name = \"trey_score\"\n",
    "trey_score"
   ]
  },
  {
   "cell_type": "code",
   "execution_count": 36,
   "id": "75c47e92",
   "metadata": {},
   "outputs": [
    {
     "data": {
      "text/plain": [
       "<AxesSubplot: xlabel='CourseName,Date'>"
      ]
     },
     "execution_count": 36,
     "metadata": {},
     "output_type": "execute_result"
    },
    {
     "data": {
      "image/png": "[encoded data removed]",
      "text/plain": [
       "<Figure size 640x480 with 1 Axes>"
      ]
     },
     "metadata": {},
     "output_type": "display_data"
    }
   ],
   "source": [
    "score_by_num = pd.DataFrame([num_players, trey_score]).T.sort_values(by=\"num_players\")\n",
    "score_by_num.plot()"
   ]
  },
  {
   "cell_type": "code",
   "execution_count": 37,
   "id": "218e0984",
   "metadata": {},
   "outputs": [
    {
     "data": {
      "text/plain": [
       "<AxesSubplot: xlabel='num_players'>"
      ]
     },
     "execution_count": 37,
     "metadata": {},
     "output_type": "execute_result"
    },
    {
     "data": {
      "image/png": "[encoded data removed]",
      "text/plain": [
       "<Figure size 640x480 with 1 Axes>"
      ]
     },
     "metadata": {},
     "output_type": "display_data"
    }
   ],
   "source": [
    "score_by_num.groupby(\"num_players\").mean().plot()"
   ]
  },
  {
   "cell_type": "code",
   "execution_count": 38,
   "id": "2840946a",
   "metadata": {},
   "outputs": [
    {
     "data": {
      "text/plain": [
       "<AxesSubplot: xlabel='num_players'>"
      ]
     },
     "execution_count": 38,
     "metadata": {},
     "output_type": "execute_result"
    },
    {
     "data": {
      "image/png": "[encoded data removed]",
      "text/plain": [
       "<Figure size 640x480 with 1 Axes>"
      ]
     },
     "metadata": {},
     "output_type": "display_data"
    }
   ],
   "source": [
    "score_by_num.groupby(\"num_players\").count().plot()"
   ]
  },
  {
   "cell_type": "code",
   "execution_count": 39,
   "id": "d3328f4e",
   "metadata": {},
   "outputs": [],
   "source": [
    "# problem could be that i tend to play harder courses with more people or the other way"
   ]
  },
  {
   "cell_type": "code",
   "execution_count": 40,
   "id": "3c9bd5bc",
   "metadata": {},
   "outputs": [
    {
     "name": "stderr",
     "output_type": "stream",
     "text": [
      "/var/folders/31/df158hy936q0z2m_dr_493pm0000gn/T/ipykernel_10809/1627704829.py:2: FutureWarning: Indexing with multiple keys (implicitly converted to a tuple of keys) will be deprecated, use a list instead.\n",
      "  score_by_length.reset_index().groupby(\"CourseName\")[\"num_holes\", \"trey_score\"].mean().sort_values(by=[\"num_holes\",\"trey_score\"]).plot()\n"
     ]
    },
    {
     "data": {
      "text/plain": [
       "<AxesSubplot: xlabel='CourseName'>"
      ]
     },
     "execution_count": 40,
     "metadata": {},
     "output_type": "execute_result"
    },
    {
     "data": {
      "image/png": "[encoded data removed]",
      "text/plain": [
       "<Figure size 640x480 with 1 Axes>"
      ]
     },
     "metadata": {},
     "output_type": "display_data"
    }
   ],
   "source": [
    "score_by_length = pd.DataFrame([num_holes, trey_score]).T\n",
    "score_by_length.reset_index().groupby(\"CourseName\")[\"num_holes\", \"trey_score\"].mean().sort_values(by=[\"num_holes\",\"trey_score\"]).plot()"
   ]
  },
  {
   "cell_type": "code",
   "execution_count": null,
   "id": "a1725a5f",
   "metadata": {},
   "outputs": [],
   "source": []
  },
  {
   "cell_type": "code",
   "execution_count": null,
   "id": "8f0db98e",
   "metadata": {},
   "outputs": [],
   "source": []
  },
  {
   "cell_type": "code",
   "execution_count": null,
   "id": "85f3ed8f",
   "metadata": {},
   "outputs": [],
   "source": []
  },
  {
   "cell_type": "code",
   "execution_count": null,
   "id": "8facda88",
   "metadata": {},
   "outputs": [],
   "source": []
  },
  {
   "cell_type": "code",
   "execution_count": null,
   "id": "6c1e58a1",
   "metadata": {},
   "outputs": [],
   "source": []
  },
  {
   "cell_type": "code",
   "execution_count": null,
   "id": "d3e51bbf",
   "metadata": {},
   "outputs": [],
   "source": []
  },
  {
   "cell_type": "code",
   "execution_count": null,
   "id": "2e801e5a",
   "metadata": {},
   "outputs": [],
   "source": []
  }
 ],
 "metadata": {
  "kernelspec": {
   "display_name": "Python 3 (ipykernel)",
   "language": "python",
   "name": "python3"
  },
  "language_info": {
   "codemirror_mode": {
    "name": "ipython",
    "version": 3
   },
   "file_extension": ".py",
   "mimetype": "text/x-python",
   "name": "python",
   "nbconvert_exporter": "python",
   "pygments_lexer": "ipython3",
   "version": "3.9.15"
  }
 },
 "nbformat": 4,
 "nbformat_minor": 5
}
